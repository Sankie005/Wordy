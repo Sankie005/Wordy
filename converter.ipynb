{
 "cells": [
  {
   "cell_type": "markdown",
   "metadata": {},
   "source": [
    "## This is a simple convertor to conver the CSV data to txt, a copy of the converted data is available in the repository "
   ]
  },
  {
   "cell_type": "code",
   "execution_count": null,
   "metadata": {},
   "outputs": [],
   "source": [
    "import  jpype     \n",
    "import  asposecells     \n",
    "jpype.startJVM() \n",
    "from asposecells.api import Workbook\n",
    "workbook = Workbook(\"ted_talks_en.csv\")\n",
    "workbook.save(\"Output_converted.txt\")\n",
    "jpype.shutdownJVM()"
   ]
  }
 ],
 "metadata": {
  "language_info": {
   "name": "python"
  },
  "orig_nbformat": 4
 },
 "nbformat": 4,
 "nbformat_minor": 2
}
